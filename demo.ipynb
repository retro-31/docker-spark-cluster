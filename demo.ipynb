{
 "cells": [
  {
   "cell_type": "code",
   "execution_count": 1,
   "id": "bd1897b4",
   "metadata": {},
   "outputs": [],
   "source": [
    "import pyspark"
   ]
  },
  {
   "cell_type": "code",
   "execution_count": null,
   "id": "f60a9a5e",
   "metadata": {},
   "outputs": [
    {
     "name": "stderr",
     "output_type": "stream",
     "text": [
      "Picked up JAVA_TOOL_OPTIONS: -Dsun.java2d.uiScale=2\n",
      "Picked up JAVA_TOOL_OPTIONS: -Dsun.java2d.uiScale=2\n",
      "25/04/21 16:59:14 WARN Utils: Your hostname, Resonance resolves to a loopback address: 127.0.1.1; using 10.21.186.156 instead (on interface wlp0s20f3)\n",
      "25/04/21 16:59:14 WARN Utils: Set SPARK_LOCAL_IP if you need to bind to another address\n",
      "Setting default log level to \"WARN\".\n",
      "To adjust logging level use sc.setLogLevel(newLevel). For SparkR, use setLogLevel(newLevel).\n",
      "25/04/21 16:59:14 WARN NativeCodeLoader: Unable to load native-hadoop library for your platform... using builtin-java classes where applicable\n",
      "25/04/21 16:59:15 WARN Utils: Service 'SparkUI' could not bind on port 4040. Attempting port 4041.\n",
      "25/04/21 17:00:15 ERROR StandaloneSchedulerBackend: Application has been killed. Reason: All masters are unresponsive! Giving up.\n",
      "25/04/21 17:00:15 WARN StandaloneSchedulerBackend: Application ID is not initialized yet.\n"
     ]
    },
    {
     "name": "stderr",
     "output_type": "stream",
     "text": [
      "25/04/21 17:00:15 INFO SparkContext: SparkContext is stopping with exitCode 0.\n",
      "25/04/21 17:00:15 INFO SparkUI: Stopped Spark web UI at http://10.21.186.156:4041\n",
      "25/04/21 17:00:15 INFO StandaloneSchedulerBackend: Shutting down all executors\n",
      "25/04/21 17:00:15 INFO StandaloneSchedulerBackend$StandaloneDriverEndpoint: Asking each executor to shut down\n",
      "25/04/21 17:00:15 WARN StandaloneAppClient$ClientEndpoint: Drop UnregisterApplication(null) because has not yet connected to master\n",
      "25/04/21 17:00:15 INFO MapOutputTrackerMasterEndpoint: MapOutputTrackerMasterEndpoint stopped!\n",
      "25/04/21 17:00:15 INFO MemoryStore: MemoryStore cleared\n",
      "25/04/21 17:00:15 INFO BlockManager: BlockManager stopped\n",
      "25/04/21 17:00:15 INFO BlockManagerMaster: BlockManagerMaster stopped\n",
      "25/04/21 17:00:15 INFO OutputCommitCoordinator$OutputCommitCoordinatorEndpoint: OutputCommitCoordinator stopped!\n",
      "25/04/21 17:00:15 INFO SparkContext: Successfully stopped SparkContext\n"
     ]
    }
   ],
   "source": [
    "sc = pyspark.SparkContext(master=\"spark://172.17.0.1:7077\")\n",
    "sc.setLogLevel(\"DEBUG\")"
   ]
  },
  {
   "cell_type": "code",
   "execution_count": null,
   "id": "ec5ca2bd",
   "metadata": {},
   "outputs": [],
   "source": [
    "sc.stop()"
   ]
  },
  {
   "cell_type": "code",
   "execution_count": null,
   "id": "a3919829",
   "metadata": {},
   "outputs": [],
   "source": [
    "sc"
   ]
  },
  {
   "cell_type": "code",
   "execution_count": null,
   "id": "8807d514",
   "metadata": {},
   "outputs": [],
   "source": [
    "import numpy as np"
   ]
  },
  {
   "cell_type": "code",
   "execution_count": null,
   "id": "3859cb93",
   "metadata": {},
   "outputs": [],
   "source": [
    "values = np.random.rand(1000000)"
   ]
  },
  {
   "cell_type": "code",
   "execution_count": null,
   "id": "ce598b06",
   "metadata": {},
   "outputs": [],
   "source": [
    "rdd = sc.parallelize(values, 4)"
   ]
  },
  {
   "cell_type": "code",
   "execution_count": null,
   "id": "75d572ff",
   "metadata": {},
   "outputs": [],
   "source": []
  }
 ],
 "metadata": {
  "kernelspec": {
   "display_name": "mlops",
   "language": "python",
   "name": "mlops"
  },
  "language_info": {
   "codemirror_mode": {
    "name": "ipython",
    "version": 3
   },
   "file_extension": ".py",
   "mimetype": "text/x-python",
   "name": "python",
   "nbconvert_exporter": "python",
   "pygments_lexer": "ipython3",
   "version": "3.12.3"
  }
 },
 "nbformat": 4,
 "nbformat_minor": 5
}
